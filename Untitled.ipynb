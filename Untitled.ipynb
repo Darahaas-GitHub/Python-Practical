{
 "cells": [
  {
   "cell_type": "code",
   "execution_count": null,
   "id": "047beb0f",
   "metadata": {},
   "outputs": [],
   "source": [
    "a=float(input(\"Please enter the first number: \"))\n",
    "b=float(input(\"Please enter the second number: \"))\n",
    "c=float(input(\"Please enter the third number: \"))\n",
    "if a>=b:\n",
    "    if b>=c:\n",
    "        print(\"The descending order of the given numbers is\",a,b,c,sep=\" ,\")\n",
    "    elif c>=b:\n",
    "        print(\"The descending order of the given numbers is\",a,c,b,sep=\" ,\")\n",
    "elif b>=c:\n",
    "    '''if a>b and a==c??'''\n",
    "    if a>=c:\n",
    "        print(\"The descending order of the given numbers is\",b,a,c, sep=\" ,\")\n",
    "    elif c>=a:\n",
    "        print(\"The descending order of the given numbers is\",b,c,a, sep=\" ,\")\n",
    "elif c>=a:\n",
    "    if a>=b:\n",
    "        print(\"The descending order of the given numebers is\",c,a,b, sep=\" ,\")\n",
    "    if b>=a:\n",
    "        print(\"The descending order of the given numbers is\",c,b,a, sep=\" ,\")\n",
    "        "
   ]
  },
  {
   "cell_type": "code",
   "execution_count": null,
   "id": "4353c8d4",
   "metadata": {},
   "outputs": [],
   "source": [
    "n=int(input(\"Please enter the number till which you want the loop to iterate\"))\n",
    "for i in range(1,n+1):\n",
    "    for j in  range(1,i+1):\n",
    "        print(j, end=' ')\n",
    "    print()"
   ]
  },
  {
   "cell_type": "code",
   "execution_count": null,
   "id": "e2bf4bc1",
   "metadata": {},
   "outputs": [],
   "source": [
    "n=int(input(\"Please enter the number to which the sum of series is to be identified: \"))\n",
    "def sumofsquares(k):\n",
    "    x=0\n",
    "    y=1\n",
    "    for y in range(1,k+1):\n",
    "        y=y**2\n",
    "        x+=y\n",
    "    return x\n",
    "    print(x)\n",
    "         \n",
    "print(\"The sum of the given series is\",sumofsquares(n))\n",
    "        "
   ]
  },
  {
   "cell_type": "code",
   "execution_count": null,
   "id": "d5755dcd",
   "metadata": {},
   "outputs": [],
   "source": [
    "def factorial(n):\n",
    "    x=1\n",
    "    y=1\n",
    "    for y in range(1,n+1):\n",
    "        x*=y\n",
    "    print(x)\n",
    "print(factorial(5))"
   ]
  },
  {
   "cell_type": "code",
   "execution_count": null,
   "id": "2d68e726",
   "metadata": {},
   "outputs": [],
   "source": [
    "n=int(input(\"Please enter the number till which you want the loop to iterate: \"))\n",
    "for i in range(n,0,-1):\n",
    "    for j in range(0,i):\n",
    "         print(i, end=' ')\n",
    "    print()"
   ]
  },
  {
   "cell_type": "code",
   "execution_count": 8,
   "id": "4ed54cc9",
   "metadata": {},
   "outputs": [
    {
     "name": "stdout",
     "output_type": "stream",
     "text": [
      "Enter number of elements : 4\n",
      "Please enter the elements of the list one by one: 1\n",
      "Please enter the elements of the list one by one: 6\n",
      "Please enter the elements of the list one by one: 5\n",
      "Please enter the elements of the list one by one: 2\n",
      "[1.0, 2.0, 5.0, 6.0]\n",
      "5.0\n",
      "The second largest number in the list is 5.0\n"
     ]
    }
   ],
   "source": [
    "l = []\n",
    "n = int(input(\"Enter number of elements : \"))\n",
    "for i in range(0, n):\n",
    "    ele = float(input(\"Please enter the elements of the list one by one: \"))\n",
    "    l.append(ele)  \n",
    "l.sort()\n",
    "print(l)\n",
    "print(l[-2])\n",
    "print(\"The second largest number in the list is\",l[-2])"
   ]
  },
  {
   "cell_type": "code",
   "execution_count": 19,
   "id": "d4be921c",
   "metadata": {},
   "outputs": [
    {
     "name": "stdout",
     "output_type": "stream",
     "text": [
      "Please enter the number upto which the prime numbers are to be displayed: 10\n",
      "2 3 5 7 "
     ]
    }
   ],
   "source": [
    "import math\n",
    "x=int(input(\"Please enter the number upto which the prime numbers are to be displayed: \"))\n",
    "\n",
    "for i in range (2,x+1):\n",
    "     k=i/2\n",
    "     k=math.floor(k)\n",
    "     count=0\n",
    "     for j in range (2,k+1):\n",
    "          if i%j==0:\n",
    "               count=count+1\n",
    "     if count==0:\n",
    "          print(i,end=' ')"
   ]
  },
  {
   "cell_type": "code",
   "execution_count": 21,
   "id": "aeb17d67",
   "metadata": {},
   "outputs": [
    {
     "name": "stdout",
     "output_type": "stream",
     "text": [
      "Please enter a list: [1,356,4]\n"
     ]
    },
    {
     "ename": "AttributeError",
     "evalue": "'str' object has no attribute 'sort'",
     "output_type": "error",
     "traceback": [
      "\u001b[1;31m---------------------------------------------------------------------------\u001b[0m",
      "\u001b[1;31mAttributeError\u001b[0m                            Traceback (most recent call last)",
      "Cell \u001b[1;32mIn[21], line 3\u001b[0m\n\u001b[0;32m      1\u001b[0m l\u001b[38;5;241m=\u001b[39m[]\n\u001b[0;32m      2\u001b[0m l\u001b[38;5;241m=\u001b[39m\u001b[38;5;28minput\u001b[39m(\u001b[38;5;124m\"\u001b[39m\u001b[38;5;124mPlease enter a list: \u001b[39m\u001b[38;5;124m\"\u001b[39m)\n\u001b[1;32m----> 3\u001b[0m l\u001b[38;5;241m.\u001b[39msort()\n\u001b[0;32m      4\u001b[0m k,y\u001b[38;5;241m=\u001b[39m\u001b[38;5;28mint\u001b[39m(\u001b[38;5;28minput\u001b[39m(\u001b[38;5;124m\"\u001b[39m\u001b[38;5;124mPlease enter the starting index number: \u001b[39m\u001b[38;5;124m\"\u001b[39m,\u001b[38;5;124m\"\u001b[39m\u001b[38;5;124mPlease enter the stopping index number: \u001b[39m\u001b[38;5;124m\"\u001b[39m))\n\u001b[0;32m      5\u001b[0m \u001b[38;5;28mprint\u001b[39m(l)\n",
      "\u001b[1;31mAttributeError\u001b[0m: 'str' object has no attribute 'sort'"
     ]
    }
   ],
   "source": []
  },
  {
   "cell_type": "code",
   "execution_count": null,
   "id": "26f58d0e",
   "metadata": {},
   "outputs": [],
   "source": []
  }
 ],
 "metadata": {
  "kernelspec": {
   "display_name": "Python 3 (ipykernel)",
   "language": "python",
   "name": "python3"
  },
  "language_info": {
   "codemirror_mode": {
    "name": "ipython",
    "version": 3
   },
   "file_extension": ".py",
   "mimetype": "text/x-python",
   "name": "python",
   "nbconvert_exporter": "python",
   "pygments_lexer": "ipython3",
   "version": "3.11.5"
  }
 },
 "nbformat": 4,
 "nbformat_minor": 5
}
